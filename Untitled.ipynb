{
 "cells": [
  {
   "cell_type": "code",
   "execution_count": 1,
   "metadata": {},
   "outputs": [],
   "source": [
    "import pandas as pd"
   ]
  },
  {
   "cell_type": "code",
   "execution_count": 64,
   "metadata": {},
   "outputs": [],
   "source": [
    "movies = pd.read_csv('final_movies.csv')\n",
    "namesdf  = pd.read_csv('final_names.csv')\n",
    "genres = pd.read_csv('final_genres.csv')"
   ]
  },
  {
   "cell_type": "code",
   "execution_count": 9,
   "metadata": {},
   "outputs": [],
   "source": [
    "dic = movies.to_dict(orient='records')"
   ]
  },
  {
   "cell_type": "code",
   "execution_count": 102,
   "metadata": {},
   "outputs": [
    {
     "data": {
      "text/plain": [
       "[{'Unnamed: 0': 0,\n",
       "  'ImdbId': 2836166,\n",
       "  'Title': \"Punk's Dead: SLC Punk 2 (2016)\",\n",
       "  'IMDB_Score': 5.1,\n",
       "  'Genre': 'Comedy',\n",
       "  'Poster': 'https://images-na.ssl-images-amazon.com/images/M/MV5BMTA1NzU2NTc4OTReQTJeQWpwZ15BbWU4MDI1MjU2OTMx._V1_UX182_CR0,0,182,268_AL_.jpg',\n",
       "  'Year': 2016,\n",
       "  'Runtime': 75,\n",
       "  'AvgRating': 4.8,\n",
       "  'NumRating': 813,\n",
       "  'Directors': 'nm0580669',\n",
       "  'Writers': 'nm0580669'},\n",
       " {'Unnamed: 0': 1,\n",
       "  'ImdbId': 2429278,\n",
       "  'Title': 'The Ghost and The Whale (2017)',\n",
       "  'IMDB_Score': 4.0,\n",
       "  'Genre': 'Drama|Mystery|Thriller',\n",
       "  'Poster': 'https://images-na.ssl-images-amazon.com/images/M/MV5BMjI0OTE2MDg4Nl5BMl5BanBnXkFtZTcwNDgzMjczOQ@@._V1_UY268_CR3,0,182,268_AL_.jpg',\n",
       "  'Year': 2017,\n",
       "  'Runtime': 105,\n",
       "  'AvgRating': 4.3,\n",
       "  'NumRating': 222,\n",
       "  'Directors': 'nm2791125,nm2791716',\n",
       "  'Writers': 'nm2791125'},\n",
       " {'Unnamed: 0': 2,\n",
       "  'ImdbId': 2638144,\n",
       "  'Title': 'Ben-Hur (2016)',\n",
       "  'IMDB_Score': 5.7,\n",
       "  'Genre': 'Action|Adventure|Drama',\n",
       "  'Poster': 'https://images-na.ssl-images-amazon.com/images/M/MV5BMjQ2NzYxMDQ2OV5BMl5BanBnXkFtZTgwMDk2MzczOTE@._V1_UX182_CR0,0,182,268_AL_.jpg',\n",
       "  'Year': 2016,\n",
       "  'Runtime': 123,\n",
       "  'AvgRating': 5.7,\n",
       "  'NumRating': 39417,\n",
       "  'Directors': 'nm0067457',\n",
       "  'Writers': 'nm0908753,nm0164851,nm0725983'},\n",
       " {'Unnamed: 0': 3,\n",
       "  'ImdbId': 1431045,\n",
       "  'Title': 'Deadpool (2016)',\n",
       "  'IMDB_Score': 8.0,\n",
       "  'Genre': 'Action|Adventure|Comedy',\n",
       "  'Poster': 'https://images-na.ssl-images-amazon.com/images/M/MV5BMjQyODg5Njc4N15BMl5BanBnXkFtZTgwMzExMjE3NzE@._V1_UY268_CR1,0,182,268_AL_.jpg',\n",
       "  'Year': 2016,\n",
       "  'Runtime': 108,\n",
       "  'AvgRating': 8.0,\n",
       "  'NumRating': 856125,\n",
       "  'Directors': 'nm1783265',\n",
       "  'Writers': 'nm1014201,nm1116660'},\n",
       " {'Unnamed: 0': 4,\n",
       "  'ImdbId': 3498820,\n",
       "  'Title': 'Captain America: Civil War (2016)',\n",
       "  'IMDB_Score': 7.9,\n",
       "  'Genre': 'Action|Adventure|Sci-Fi',\n",
       "  'Poster': 'https://images-na.ssl-images-amazon.com/images/M/MV5BMjQ0MTgyNjAxMV5BMl5BanBnXkFtZTgwNjUzMDkyODE@._V1_UX182_CR0,0,182,268_AL_.jpg',\n",
       "  'Year': 2016,\n",
       "  'Runtime': 147,\n",
       "  'AvgRating': 7.8,\n",
       "  'NumRating': 618559,\n",
       "  'Directors': 'nm0751648,nm0751577',\n",
       "  'Writers': 'nm1321655,nm1321656,nm0800209,nm0456158,nm2092839,nm4022192'},\n",
       " {'Unnamed: 0': 5,\n",
       "  'ImdbId': 3385516,\n",
       "  'Title': 'X-Men: Apocalypse (2016)',\n",
       "  'IMDB_Score': 7.1,\n",
       "  'Genre': 'Action|Adventure|Sci-Fi',\n",
       "  'Poster': 'https://images-na.ssl-images-amazon.com/images/M/MV5BMjU1ODM1MzYxN15BMl5BanBnXkFtZTgwOTA4NDE2ODE@._V1_UX182_CR0,0,182,268_AL_.jpg',\n",
       "  'Year': 2016,\n",
       "  'Runtime': 144,\n",
       "  'AvgRating': 6.9,\n",
       "  'NumRating': 373029,\n",
       "  'Directors': 'nm0001741',\n",
       "  'Writers': 'nm1334526,nm0001741,nm1002424,nm0003529,nm0456158,nm0498278'},\n",
       " {'Unnamed: 0': 6,\n",
       "  'ImdbId': 2649554,\n",
       "  'Title': 'Midnight Special (2016)',\n",
       "  'IMDB_Score': 6.7,\n",
       "  'Genre': 'Adventure|Drama|Mystery',\n",
       "  'Poster': 'https://images-na.ssl-images-amazon.com/images/M/MV5BMTUwNDcyNzkyOV5BMl5BanBnXkFtZTgwNzI1NzkyNzE@._V1_UX182_CR0,0,182,268_AL_.jpg',\n",
       "  'Year': 2016,\n",
       "  'Runtime': 112,\n",
       "  'AvgRating': 6.6,\n",
       "  'NumRating': 70297,\n",
       "  'Directors': 'nm2158772',\n",
       "  'Writers': 'nm2158772'},\n",
       " {'Unnamed: 0': 7,\n",
       "  'ImdbId': 3410834,\n",
       "  'Title': 'Allegiant (2016)',\n",
       "  'IMDB_Score': 5.7,\n",
       "  'Genre': 'Action|Adventure|Mystery',\n",
       "  'Poster': 'https://images-na.ssl-images-amazon.com/images/M/MV5BMjEyOTI3NDQwN15BMl5BanBnXkFtZTgwNjExOTIwODE@._V1_UX182_CR0,0,182,268_AL_.jpg',\n",
       "  'Year': 2016,\n",
       "  'Runtime': 120,\n",
       "  'AvgRating': 5.7,\n",
       "  'NumRating': 100581,\n",
       "  'Directors': 'nm0777881',\n",
       "  'Writers': 'nm3834300,nm0177836,nm0171651,nm4316121'},\n",
       " {'Unnamed: 0': 8,\n",
       "  'ImdbId': 2709768,\n",
       "  'Title': 'The Secret Life of Pets (2016)',\n",
       "  'IMDB_Score': 6.6,\n",
       "  'Genre': 'Animation|Adventure|Comedy',\n",
       "  'Poster': 'https://images-na.ssl-images-amazon.com/images/M/MV5BMjIzMzA1OTkzNV5BMl5BanBnXkFtZTgwODE3MjM4NzE@._V1_UX182_CR0,0,182,268_AL_.jpg',\n",
       "  'Year': 2016,\n",
       "  'Runtime': 87,\n",
       "  'AvgRating': 6.5,\n",
       "  'NumRating': 172797,\n",
       "  'Directors': 'nm0719208,nm0155528',\n",
       "  'Writers': 'nm0666791,nm0202425,nm0528244'},\n",
       " {'Unnamed: 0': 9,\n",
       "  'ImdbId': 3014866,\n",
       "  'Title': 'Criminal (2016)',\n",
       "  'IMDB_Score': 6.3,\n",
       "  'Genre': 'Action|Crime|Drama',\n",
       "  'Poster': 'https://images-na.ssl-images-amazon.com/images/M/MV5BMTg0ODc4Mzk2OF5BMl5BanBnXkFtZTgwNDk2MDkyODE@._V1_UX182_CR0,0,182,268_AL_.jpg',\n",
       "  'Year': 2016,\n",
       "  'Runtime': 113,\n",
       "  'AvgRating': 6.3,\n",
       "  'NumRating': 54878,\n",
       "  'Directors': 'nm1033517',\n",
       "  'Writers': 'nm0177018,nm0918711'}]"
      ]
     },
     "execution_count": 102,
     "metadata": {},
     "output_type": "execute_result"
    }
   ],
   "source": [
    "dic[0:10]"
   ]
  },
  {
   "cell_type": "code",
   "execution_count": 30,
   "metadata": {},
   "outputs": [],
   "source": [
    "def get_data(dic):\n",
    "    data = {\n",
    "        'ImdbId' : dic['ImdbId'],\n",
    "        'Title' : dic['Title'][:-7],\n",
    "        'Imdb_rating' : dic['IMDB_Score'],\n",
    "        'Image_link' : dic['Poster'],\n",
    "        'RunTime' : dic['Runtime'],\n",
    "        'Year' : dic['Year'],\n",
    "        'Rating' : dic['AvgRating'],\n",
    "        'Num_ratings' : dic['NumRating']\n",
    "    }\n",
    "    foreingn_data = {\n",
    "        'genres' : [i for i in dic['Genre'].split('|')],\n",
    "        'directors' : [i for i in dic['Directors'].split(',')],\n",
    "        'writers' : [i for i in dic['Writers'].split(',')]\n",
    "    }\n",
    "    return data, foreingn_data"
   ]
  },
  {
   "cell_type": "code",
   "execution_count": 32,
   "metadata": {},
   "outputs": [],
   "source": [
    "d, fd = get_data(dic[2])"
   ]
  },
  {
   "cell_type": "code",
   "execution_count": null,
   "metadata": {},
   "outputs": [],
   "source": [
    "for data in all_data:\n",
    "    d, fd = get_data(data)\n",
    "    m = Movie.objects.create(**d)\n",
    "    m.save()\n",
    "    for i in fd['genres']:\n",
    "        g = Genre.objects.filter(genre__iexact = i)\n",
    "        if len(g) > 0:\n",
    "            m.Genres.add(g[0])\n",
    "        else:\n",
    "            g = Genre.objects.create(genre = i)\n",
    "            m.Genres.add(g)\n",
    "    for i in fd['directors']:\n",
    "        d = People.objects.filter(NameId__iexact = i)\n",
    "        if len(d) > 0:\n",
    "            m.Directors.add(d[0])\n",
    "    for i in fd['writers']:\n",
    "        w = People.objects.filter(NameId__iexact = i)\n",
    "        if len(w) > 0:\n",
    "            m.Writers.add(w[0])\n",
    "    \n",
    "        "
   ]
  },
  {
   "cell_type": "code",
   "execution_count": 103,
   "metadata": {},
   "outputs": [
    {
     "data": {
      "text/plain": [
       "{'Unnamed: 0': 663,\n",
       " 'ImdbId': 4882174,\n",
       " 'Title': '37 (2016)',\n",
       " 'IMDB_Score': 3.9,\n",
       " 'Genre': 'Drama',\n",
       " 'Poster': 'https://images-na.ssl-images-amazon.com/images/M/MV5BMjA3OTIxNjU5N15BMl5BanBnXkFtZTgwMTc4MTgxMDI@._V1_UX182_CR0,0,182,268_AL_.jpg',\n",
       " 'Year': 2016,\n",
       " 'Runtime': 85,\n",
       " 'AvgRating': 3.9,\n",
       " 'NumRating': 537,\n",
       " 'Directors': 'nm0335980',\n",
       " 'Writers': 'nm0335980'}"
      ]
     },
     "execution_count": 103,
     "metadata": {},
     "output_type": "execute_result"
    }
   ],
   "source": [
    "dic[663]"
   ]
  },
  {
   "cell_type": "code",
   "execution_count": null,
   "metadata": {},
   "outputs": [],
   "source": []
  }
 ],
 "metadata": {
  "kernelspec": {
   "display_name": "Python 3",
   "language": "python",
   "name": "python3"
  },
  "language_info": {
   "codemirror_mode": {
    "name": "ipython",
    "version": 3
   },
   "file_extension": ".py",
   "mimetype": "text/x-python",
   "name": "python",
   "nbconvert_exporter": "python",
   "pygments_lexer": "ipython3",
   "version": "3.6.5"
  }
 },
 "nbformat": 4,
 "nbformat_minor": 2
}
