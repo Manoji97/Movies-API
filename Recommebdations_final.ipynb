{
 "cells": [
  {
   "cell_type": "code",
   "execution_count": 2,
   "metadata": {},
   "outputs": [],
   "source": [
    "import pandas as pd\n",
    "import numpy as np\n",
    "from sklearn.preprocessing import MinMaxScaler\n",
    "from sklearn.neighbors import NearestNeighbors\n",
    "import sqlite3\n",
    "import pickle\n",
    "import os"
   ]
  },
  {
   "cell_type": "code",
   "execution_count": 3,
   "metadata": {},
   "outputs": [],
   "source": [
    "con = sqlite3.connect(\"db.sqlite3\", isolation_level=None,\n",
    "                           detect_types=sqlite3.PARSE_COLNAMES)"
   ]
  },
  {
   "cell_type": "code",
   "execution_count": 4,
   "metadata": {},
   "outputs": [],
   "source": [
    "Movies = pd.read_sql_query(\"SELECT * FROM Movies_movie\", con)\n",
    "Movie_genres = pd.read_sql_query('select * from Movies_movie_Genres',con)\n",
    "Gneres = pd.read_sql_query('select * from Movies_genre',con)"
   ]
  },
  {
   "cell_type": "code",
   "execution_count": 5,
   "metadata": {},
   "outputs": [],
   "source": [
    "Genres = Gneres.set_index('id').to_dict()\n",
    "Movie_genres.genre_id = Movie_genres.genre_id.apply(lambda x: Genres['genre'][x])\n",
    "Movie_genres = Movie_genres.groupby('movie_id')['genre_id'].apply('|'.join).reset_index()"
   ]
  },
  {
   "cell_type": "code",
   "execution_count": 6,
   "metadata": {},
   "outputs": [],
   "source": [
    "genre_features = Movie_genres.genre_id.str.get_dummies(sep='|')"
   ]
  },
  {
   "cell_type": "code",
   "execution_count": 7,
   "metadata": {},
   "outputs": [],
   "source": [
    "Movie_feartures = Movies[['id','Imdb_rating', 'RunTime','Rating','Year']]\n",
    "Movie_feartures = pd.concat([Movie_feartures, genre_features], axis=1, join='inner')"
   ]
  },
  {
   "cell_type": "code",
   "execution_count": 8,
   "metadata": {},
   "outputs": [],
   "source": [
    "min_max_scaler = MinMaxScaler()\n",
    "movies_final_features = min_max_scaler.fit_transform(Movie_feartures.reset_index())"
   ]
  },
  {
   "cell_type": "code",
   "execution_count": 9,
   "metadata": {},
   "outputs": [
    {
     "data": {
      "text/plain": [
       "array([[0.  , 0.  , 0.4 , ..., 0.  , 0.  , 0.  ],\n",
       "       [0.  , 0.  , 0.24, ..., 1.  , 0.  , 0.  ],\n",
       "       [0.  , 0.  , 0.49, ..., 0.  , 0.  , 0.  ],\n",
       "       ...,\n",
       "       [1.  , 1.  , 0.67, ..., 0.  , 0.  , 0.  ],\n",
       "       [1.  , 1.  , 0.26, ..., 1.  , 0.  , 0.  ],\n",
       "       [1.  , 1.  , 0.23, ..., 0.  , 0.  , 0.  ]])"
      ]
     },
     "execution_count": 9,
     "metadata": {},
     "output_type": "execute_result"
    }
   ],
   "source": [
    "np.round(movies_final_features,2)"
   ]
  },
  {
   "cell_type": "code",
   "execution_count": 10,
   "metadata": {},
   "outputs": [],
   "source": [
    "nbrs = NearestNeighbors(n_neighbors=5, algorithm='brute').fit(movies_final_features)\n",
    "distances, indices = nbrs.kneighbors(movies_final_features)"
   ]
  },
  {
   "cell_type": "code",
   "execution_count": 11,
   "metadata": {},
   "outputs": [],
   "source": [
    "Recommendatiosn_df = pd.DataFrame(indices)"
   ]
  },
  {
   "cell_type": "code",
   "execution_count": 12,
   "metadata": {},
   "outputs": [],
   "source": [
    "Recommendatiosn_df = pd.concat([Movies.id, Recommendatiosn_df], axis =1)"
   ]
  },
  {
   "cell_type": "code",
   "execution_count": 13,
   "metadata": {},
   "outputs": [],
   "source": [
    "with open('Recommendations.pkl', 'wb') as file:\n",
    "    pickle.dump(Recommendatiosn_df, file)"
   ]
  },
  {
   "cell_type": "markdown",
   "metadata": {},
   "source": [
    "## helper functions"
   ]
  },
  {
   "cell_type": "code",
   "execution_count": 94,
   "metadata": {},
   "outputs": [],
   "source": [
    "def Train(db_path):\n",
    "    try:\n",
    "        con = sqlite3.connect(db_path, isolation_level=None,\n",
    "                               detect_types=sqlite3.PARSE_COLNAMES)\n",
    "        Movies = pd.read_sql_query(\"SELECT * FROM Movies_movie\", con)\n",
    "        Movie_genres = pd.read_sql_query('select * from Movies_movie_Genres',con)\n",
    "        Gneres = pd.read_sql_query('select * from Movies_genre',con)\n",
    "    \n",
    "        Genres = Gneres.set_index('id').to_dict()\n",
    "        Movie_genres.genre_id = Movie_genres.genre_id.apply(lambda x: Genres['genre'][x])\n",
    "        Movie_genres = Movie_genres.groupby('movie_id')['genre_id'].apply('|'.join).reset_index()\n",
    "\n",
    "        genre_features = Movie_genres.genre_id.str.get_dummies(sep='|')\n",
    "        Movie_feartures = Movies[['id','Imdb_rating', 'RunTime','Rating','Year']]\n",
    "        Movie_feartures = pd.concat([Movie_feartures, genre_features], axis=1, join='inner')\n",
    "\n",
    "        min_max_scaler = MinMaxScaler()\n",
    "        movies_final_features = min_max_scaler.fit_transform(Movie_feartures.reset_index())\n",
    "\n",
    "        nbrs = NearestNeighbors(n_neighbors=5, algorithm='brute').fit(movies_final_features)\n",
    "        distances, indices = nbrs.kneighbors(movies_final_features)\n",
    "\n",
    "        Recommendatiosn_df = pd.DataFrame(indices)\n",
    "        Recommendatiosn_df = pd.concat([Movies.id, Recommendatiosn_df], axis =1)\n",
    "\n",
    "        with open('Recommendations.pkl', 'wb') as file:\n",
    "            pickle.dump(Recommendatiosn_df, file)\n",
    "        return [True, Recommendatiosn_df]\n",
    "    except:\n",
    "        print(\"error in connecting to database\")\n",
    "        return [False, None]"
   ]
  },
  {
   "cell_type": "code",
   "execution_count": 95,
   "metadata": {},
   "outputs": [],
   "source": [
    "def Train_or_Get(train = None, filepath = \"Recommendations.pkl\"):\n",
    "    if not train and os.path.exists(filepath):\n",
    "        indices = pd.DataFrame()\n",
    "        with open(filepath,'rb') as file:\n",
    "            indices = pickle.load(file)\n",
    "        return [True, indices]\n",
    "    else:\n",
    "        return Train('db.sqlite3')"
   ]
  },
  {
   "cell_type": "code",
   "execution_count": 96,
   "metadata": {},
   "outputs": [],
   "source": [
    "class Get_Recommendations:\n",
    "    def __init__(self):\n",
    "        self.Recommendation_indices = []\n",
    "        self.received = False\n",
    "    def get_Indices(self):\n",
    "        self.received ,self.Recommendation_indices = Train_or_Get()\n",
    "    def userRecommendations(self,id):\n",
    "        self.get_Indices()\n",
    "        MovieId = []\n",
    "        if self.received:\n",
    "            related = np.array(self.Recommendation_indices[self.Recommendation_indices.id == id].iloc[:, 2:])[0] \n",
    "            for i in related:\n",
    "                MovieId.append(self.Recommendation_indices.iloc[i].id)\n",
    "        return MovieId\n",
    "        "
   ]
  },
  {
   "cell_type": "code",
   "execution_count": 97,
   "metadata": {},
   "outputs": [],
   "source": [
    "u = Get_Recommendations()"
   ]
  },
  {
   "cell_type": "code",
   "execution_count": 98,
   "metadata": {},
   "outputs": [
    {
     "data": {
      "text/plain": [
       "[35, 28, 38, 34]"
      ]
     },
     "execution_count": 98,
     "metadata": {},
     "output_type": "execute_result"
    }
   ],
   "source": [
    "u.userRecommendations(27)"
   ]
  },
  {
   "cell_type": "code",
   "execution_count": 47,
   "metadata": {},
   "outputs": [
    {
     "data": {
      "text/html": [
       "<div>\n",
       "<style scoped>\n",
       "    .dataframe tbody tr th:only-of-type {\n",
       "        vertical-align: middle;\n",
       "    }\n",
       "\n",
       "    .dataframe tbody tr th {\n",
       "        vertical-align: top;\n",
       "    }\n",
       "\n",
       "    .dataframe thead th {\n",
       "        text-align: right;\n",
       "    }\n",
       "</style>\n",
       "<table border=\"1\" class=\"dataframe\">\n",
       "  <thead>\n",
       "    <tr style=\"text-align: right;\">\n",
       "      <th></th>\n",
       "      <th>id</th>\n",
       "      <th>ImdbId</th>\n",
       "      <th>Title</th>\n",
       "      <th>Imdb_rating</th>\n",
       "      <th>Image_link</th>\n",
       "      <th>Year</th>\n",
       "      <th>Num_ratings</th>\n",
       "      <th>RunTime</th>\n",
       "      <th>Rating</th>\n",
       "    </tr>\n",
       "  </thead>\n",
       "  <tbody>\n",
       "    <tr>\n",
       "      <th>11</th>\n",
       "      <td>34</td>\n",
       "      <td>1628841</td>\n",
       "      <td>Independence Day: Resurgence</td>\n",
       "      <td>5.3</td>\n",
       "      <td>https://images-na.ssl-images-amazon.com/images...</td>\n",
       "      <td>2016</td>\n",
       "      <td>159650</td>\n",
       "      <td>120</td>\n",
       "      <td>5.2</td>\n",
       "    </tr>\n",
       "  </tbody>\n",
       "</table>\n",
       "</div>"
      ],
      "text/plain": [
       "    id   ImdbId                         Title  Imdb_rating  \\\n",
       "11  34  1628841  Independence Day: Resurgence          5.3   \n",
       "\n",
       "                                           Image_link  Year  Num_ratings  \\\n",
       "11  https://images-na.ssl-images-amazon.com/images...  2016       159650   \n",
       "\n",
       "    RunTime  Rating  \n",
       "11      120     5.2  "
      ]
     },
     "execution_count": 47,
     "metadata": {},
     "output_type": "execute_result"
    }
   ],
   "source": [
    "Movies[Movies.id == 34]"
   ]
  }
 ],
 "metadata": {
  "kernelspec": {
   "display_name": "Python 3",
   "language": "python",
   "name": "python3"
  },
  "language_info": {
   "codemirror_mode": {
    "name": "ipython",
    "version": 3
   },
   "file_extension": ".py",
   "mimetype": "text/x-python",
   "name": "python",
   "nbconvert_exporter": "python",
   "pygments_lexer": "ipython3",
   "version": "3.7.6"
  }
 },
 "nbformat": 4,
 "nbformat_minor": 4
}
